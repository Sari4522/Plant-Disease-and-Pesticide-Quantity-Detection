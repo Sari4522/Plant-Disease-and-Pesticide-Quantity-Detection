{
 "cells": [
  {
   "cell_type": "code",
   "execution_count": 1,
   "id": "4abfc961",
   "metadata": {
    "execution": {
     "iopub.execute_input": "2024-06-03T14:05:00.926551Z",
     "iopub.status.busy": "2024-06-03T14:05:00.926201Z",
     "iopub.status.idle": "2024-06-03T14:05:14.382262Z",
     "shell.execute_reply": "2024-06-03T14:05:14.381293Z"
    },
    "papermill": {
     "duration": 13.46288,
     "end_time": "2024-06-03T14:05:14.384792",
     "exception": false,
     "start_time": "2024-06-03T14:05:00.921912",
     "status": "completed"
    },
    "tags": []
   },
   "outputs": [
    {
     "name": "stderr",
     "output_type": "stream",
     "text": [
      "2024-06-03 14:05:02.685017: E external/local_xla/xla/stream_executor/cuda/cuda_dnn.cc:9261] Unable to register cuDNN factory: Attempting to register factory for plugin cuDNN when one has already been registered\n",
      "2024-06-03 14:05:02.685130: E external/local_xla/xla/stream_executor/cuda/cuda_fft.cc:607] Unable to register cuFFT factory: Attempting to register factory for plugin cuFFT when one has already been registered\n",
      "2024-06-03 14:05:02.808595: E external/local_xla/xla/stream_executor/cuda/cuda_blas.cc:1515] Unable to register cuBLAS factory: Attempting to register factory for plugin cuBLAS when one has already been registered\n"
     ]
    }
   ],
   "source": [
    "import os\n",
    "import numpy as np\n",
    "import tensorflow as tf\n",
    "from tensorflow.keras.preprocessing.image import ImageDataGenerator\n",
    "from tensorflow.keras.applications import ResNet50\n",
    "from tensorflow.keras.layers import Input, Dense, GlobalAveragePooling2D\n",
    "from tensorflow.keras.models import Model\n",
    "from tensorflow.keras.optimizers import Adam\n",
    "from tensorflow.keras.callbacks import LearningRateScheduler, EarlyStopping\n",
    "from sklearn.model_selection import train_test_split"
   ]
  },
  {
   "cell_type": "code",
   "execution_count": 2,
   "id": "47b212ca",
   "metadata": {
    "_cell_guid": "b1076dfc-b9ad-4769-8c92-a6c4dae69d19",
    "_uuid": "8f2839f25d086af736a60e9eeb907d3b93b6e0e5",
    "execution": {
     "iopub.execute_input": "2024-06-03T14:05:14.391801Z",
     "iopub.status.busy": "2024-06-03T14:05:14.391218Z",
     "iopub.status.idle": "2024-06-03T14:05:15.078825Z",
     "shell.execute_reply": "2024-06-03T14:05:15.078041Z"
    },
    "papermill": {
     "duration": 0.693055,
     "end_time": "2024-06-03T14:05:15.080919",
     "exception": false,
     "start_time": "2024-06-03T14:05:14.387864",
     "status": "completed"
    },
    "tags": []
   },
   "outputs": [
    {
     "name": "stdout",
     "output_type": "stream",
     "text": [
      "Found 3162 images belonging to 8 classes.\n",
      "Found 902 images belonging to 8 classes.\n",
      "Found 461 images belonging to 8 classes.\n"
     ]
    }
   ],
   "source": [
    "train_datagen = ImageDataGenerator(\n",
    "    rescale=1./255,\n",
    "    rotation_range=40,\n",
    "    width_shift_range=0.2,\n",
    "    height_shift_range=0.2,\n",
    "    shear_range=0.2,\n",
    "    zoom_range=0.2,\n",
    "    horizontal_flip=True,\n",
    "    fill_mode='nearest'\n",
    ")\n",
    "\n",
    "val_datagen = ImageDataGenerator(rescale=1./255)\n",
    "test_datagen = ImageDataGenerator(rescale=1./255)\n",
    "\n",
    "train_dir = '/kaggle/input/tomato-village/Variant-a(Multiclass Classification)/train'\n",
    "val_dir = '/kaggle/input/tomato-village/Variant-a(Multiclass Classification)/val'\n",
    "test_dir = '/kaggle/input/tomato-village/Variant-a(Multiclass Classification)/test'\n",
    "\n",
    "train_generator = train_datagen.flow_from_directory(\n",
    "    train_dir,\n",
    "    target_size=(224, 224),\n",
    "    batch_size=32,\n",
    "    class_mode='categorical'\n",
    ")\n",
    "\n",
    "val_generator = val_datagen.flow_from_directory(\n",
    "    val_dir,\n",
    "    target_size=(224, 224),\n",
    "    batch_size=32,\n",
    "    class_mode='categorical'\n",
    ")\n",
    "\n",
    "test_generator = test_datagen.flow_from_directory(\n",
    "    test_dir,\n",
    "    target_size=(224, 224),\n",
    "    batch_size=32,\n",
    "    class_mode='categorical'\n",
    ")\n"
   ]
  },
  {
   "cell_type": "code",
   "execution_count": 3,
   "id": "103b027e",
   "metadata": {
    "execution": {
     "iopub.execute_input": "2024-06-03T14:05:15.088470Z",
     "iopub.status.busy": "2024-06-03T14:05:15.087591Z",
     "iopub.status.idle": "2024-06-03T14:05:18.119905Z",
     "shell.execute_reply": "2024-06-03T14:05:18.119123Z"
    },
    "papermill": {
     "duration": 3.038266,
     "end_time": "2024-06-03T14:05:18.122105",
     "exception": false,
     "start_time": "2024-06-03T14:05:15.083839",
     "status": "completed"
    },
    "tags": []
   },
   "outputs": [
    {
     "name": "stdout",
     "output_type": "stream",
     "text": [
      "Downloading data from https://storage.googleapis.com/tensorflow/keras-applications/resnet/resnet50_weights_tf_dim_ordering_tf_kernels_notop.h5\n",
      "\u001b[1m94765736/94765736\u001b[0m \u001b[32m━━━━━━━━━━━━━━━━━━━━\u001b[0m\u001b[37m\u001b[0m \u001b[1m0s\u001b[0m 0us/step\n"
     ]
    }
   ],
   "source": [
    "def cbam_block(cbam_feature, ratio=8):\n",
    "    cbam_feature = channel_attention(cbam_feature, ratio)\n",
    "    cbam_feature = spatial_attention(cbam_feature)\n",
    "    return cbam_feature\n",
    "\n",
    "def channel_attention(input_feature, ratio=8):\n",
    "    channel_axis = 1 if tf.keras.backend.image_data_format() == \"channels_first\" else -1\n",
    "    channel = input_feature.shape[channel_axis]\n",
    "\n",
    "    shared_layer_one = tf.keras.layers.Dense(channel // ratio,\n",
    "                                             activation='relu',\n",
    "                                             kernel_initializer='he_normal',\n",
    "                                             use_bias=True,\n",
    "                                             bias_initializer='zeros')\n",
    "    shared_layer_two = tf.keras.layers.Dense(channel,\n",
    "                                             kernel_initializer='he_normal',\n",
    "                                             use_bias=True,\n",
    "                                             bias_initializer='zeros')\n",
    "\n",
    "    avg_pool = tf.keras.layers.GlobalAveragePooling2D()(input_feature)    \n",
    "    avg_pool = tf.keras.layers.Reshape((1, 1, channel))(avg_pool)\n",
    "    avg_pool = shared_layer_one(avg_pool)\n",
    "    avg_pool = shared_layer_two(avg_pool)\n",
    "\n",
    "    max_pool = tf.keras.layers.GlobalMaxPooling2D()(input_feature)\n",
    "    max_pool = tf.keras.layers.Reshape((1, 1, channel))(max_pool)\n",
    "    max_pool = shared_layer_one(max_pool)\n",
    "    max_pool = shared_layer_two(max_pool)\n",
    "\n",
    "    cbam_feature = tf.keras.layers.Add()([avg_pool, max_pool])\n",
    "    cbam_feature = tf.keras.layers.Activation('sigmoid')(cbam_feature)\n",
    "\n",
    "    if tf.keras.backend.image_data_format() == \"channels_first\":\n",
    "        cbam_feature = tf.keras.layers.Permute((3, 1, 2))(cbam_feature)\n",
    "\n",
    "    return tf.keras.layers.multiply([input_feature, cbam_feature])\n",
    "\n",
    "def spatial_attention(input_feature):\n",
    "    kernel_size = 7\n",
    "    if tf.keras.backend.image_data_format() == \"channels_first\":\n",
    "        channel = input_feature.shape[1]\n",
    "        cbam_feature = tf.keras.layers.Permute((2, 3, 1))(input_feature)\n",
    "    else:\n",
    "        channel = input_feature.shape[-1]\n",
    "        cbam_feature = input_feature\n",
    "\n",
    "    avg_pool = tf.keras.layers.Lambda(lambda x: tf.keras.backend.mean(x, axis=3, keepdims=True))(cbam_feature)\n",
    "    max_pool = tf.keras.layers.Lambda(lambda x: tf.keras.backend.max(x, axis=3, keepdims=True))(cbam_feature)\n",
    "    concat = tf.keras.layers.Concatenate(axis=3)([avg_pool, max_pool])\n",
    "    cbam_feature = tf.keras.layers.Conv2D(filters=1,\n",
    "                                          kernel_size=kernel_size,\n",
    "                                          strides=1,\n",
    "                                          padding='same',\n",
    "                                          activation='sigmoid',\n",
    "                                          kernel_initializer='he_normal',\n",
    "                                          use_bias=False)(concat)\n",
    "\n",
    "    if tf.keras.backend.image_data_format() == \"channels_first\":\n",
    "        cbam_feature = tf.keras.layers.Permute((3, 1, 2))(cbam_feature)\n",
    "\n",
    "    return tf.keras.layers.multiply([input_feature, cbam_feature])\n",
    "\n",
    "input_shape = (224, 224, 3)\n",
    "base_model = ResNet50(weights='imagenet', include_top=False, input_tensor=Input(shape=input_shape))\n",
    "\n",
    "x = base_model.output\n",
    "x = cbam_block(x)\n",
    "x = GlobalAveragePooling2D()(x)\n",
    "x = Dense(256, activation='relu')(x)\n",
    "predictions = Dense(train_generator.num_classes, activation='softmax')(x)\n",
    "\n",
    "model = Model(inputs=base_model.input, outputs=predictions)"
   ]
  },
  {
   "cell_type": "code",
   "execution_count": 4,
   "id": "f399b26e",
   "metadata": {
    "execution": {
     "iopub.execute_input": "2024-06-03T14:05:18.130764Z",
     "iopub.status.busy": "2024-06-03T14:05:18.130484Z",
     "iopub.status.idle": "2024-06-03T14:30:54.348974Z",
     "shell.execute_reply": "2024-06-03T14:30:54.348056Z"
    },
    "papermill": {
     "duration": 1536.225508,
     "end_time": "2024-06-03T14:30:54.351485",
     "exception": false,
     "start_time": "2024-06-03T14:05:18.125977",
     "status": "completed"
    },
    "tags": []
   },
   "outputs": [
    {
     "name": "stdout",
     "output_type": "stream",
     "text": [
      "Epoch 1/50\n"
     ]
    },
    {
     "name": "stderr",
     "output_type": "stream",
     "text": [
      "/opt/conda/lib/python3.10/site-packages/keras/src/trainers/data_adapters/py_dataset_adapter.py:121: UserWarning: Your `PyDataset` class should call `super().__init__(**kwargs)` in its constructor. `**kwargs` can include `workers`, `use_multiprocessing`, `max_queue_size`. Do not pass these arguments to `fit()`, as they will be ignored.\n",
      "  self._warn_if_super_not_called()\n",
      "WARNING: All log messages before absl::InitializeLog() is called are written to STDERR\n",
      "I0000 00:00:1717423594.944421      90 device_compiler.h:186] Compiled cluster using XLA!  This line is logged at most once for the lifetime of the process.\n",
      "W0000 00:00:1717423595.064896      90 graph_launch.cc:671] Fallback to op-by-op mode because memset node breaks graph update\n"
     ]
    },
    {
     "name": "stdout",
     "output_type": "stream",
     "text": [
      "\u001b[1m99/99\u001b[0m \u001b[32m━━━━━━━━━━━━━━━━━━━━\u001b[0m\u001b[37m\u001b[0m \u001b[1m0s\u001b[0m 856ms/step - accuracy: 0.4567 - loss: 1.5236"
     ]
    },
    {
     "name": "stderr",
     "output_type": "stream",
     "text": [
      "W0000 00:00:1717423683.841443      89 graph_launch.cc:671] Fallback to op-by-op mode because memset node breaks graph update\n"
     ]
    },
    {
     "name": "stdout",
     "output_type": "stream",
     "text": [
      "\u001b[1m99/99\u001b[0m \u001b[32m━━━━━━━━━━━━━━━━━━━━\u001b[0m\u001b[37m\u001b[0m \u001b[1m175s\u001b[0m 1s/step - accuracy: 0.4581 - loss: 1.5200 - val_accuracy: 0.1996 - val_loss: 3.4554 - learning_rate: 1.0000e-04\n",
      "Epoch 2/50\n",
      "\u001b[1m99/99\u001b[0m \u001b[32m━━━━━━━━━━━━━━━━━━━━\u001b[0m\u001b[37m\u001b[0m \u001b[1m40s\u001b[0m 381ms/step - accuracy: 0.7566 - loss: 0.6704 - val_accuracy: 0.1098 - val_loss: 2.5429 - learning_rate: 1.0000e-04\n",
      "Epoch 3/50\n",
      "\u001b[1m99/99\u001b[0m \u001b[32m━━━━━━━━━━━━━━━━━━━━\u001b[0m\u001b[37m\u001b[0m \u001b[1m42s\u001b[0m 394ms/step - accuracy: 0.8268 - loss: 0.4767 - val_accuracy: 0.0920 - val_loss: 2.7902 - learning_rate: 1.0000e-04\n",
      "Epoch 4/50\n",
      "\u001b[1m99/99\u001b[0m \u001b[32m━━━━━━━━━━━━━━━━━━━━\u001b[0m\u001b[37m\u001b[0m \u001b[1m46s\u001b[0m 433ms/step - accuracy: 0.8787 - loss: 0.3348 - val_accuracy: 0.2018 - val_loss: 3.2076 - learning_rate: 1.0000e-04\n",
      "Epoch 5/50\n",
      "\u001b[1m99/99\u001b[0m \u001b[32m━━━━━━━━━━━━━━━━━━━━\u001b[0m\u001b[37m\u001b[0m \u001b[1m41s\u001b[0m 386ms/step - accuracy: 0.8934 - loss: 0.3052 - val_accuracy: 0.1175 - val_loss: 2.4277 - learning_rate: 1.0000e-04\n",
      "Epoch 6/50\n",
      "\u001b[1m99/99\u001b[0m \u001b[32m━━━━━━━━━━━━━━━━━━━━\u001b[0m\u001b[37m\u001b[0m \u001b[1m41s\u001b[0m 386ms/step - accuracy: 0.9208 - loss: 0.2244 - val_accuracy: 0.2583 - val_loss: 2.3867 - learning_rate: 1.0000e-04\n",
      "Epoch 7/50\n",
      "\u001b[1m99/99\u001b[0m \u001b[32m━━━━━━━━━━━━━━━━━━━━\u001b[0m\u001b[37m\u001b[0m \u001b[1m40s\u001b[0m 378ms/step - accuracy: 0.9248 - loss: 0.2295 - val_accuracy: 0.2749 - val_loss: 2.8009 - learning_rate: 1.0000e-04\n",
      "Epoch 8/50\n",
      "\u001b[1m99/99\u001b[0m \u001b[32m━━━━━━━━━━━━━━━━━━━━\u001b[0m\u001b[37m\u001b[0m \u001b[1m40s\u001b[0m 379ms/step - accuracy: 0.9400 - loss: 0.1824 - val_accuracy: 0.4213 - val_loss: 2.4547 - learning_rate: 1.0000e-04\n",
      "Epoch 9/50\n",
      "\u001b[1m99/99\u001b[0m \u001b[32m━━━━━━━━━━━━━━━━━━━━\u001b[0m\u001b[37m\u001b[0m \u001b[1m42s\u001b[0m 394ms/step - accuracy: 0.9422 - loss: 0.1782 - val_accuracy: 0.6497 - val_loss: 1.3868 - learning_rate: 1.0000e-04\n",
      "Epoch 10/50\n",
      "\u001b[1m99/99\u001b[0m \u001b[32m━━━━━━━━━━━━━━━━━━━━\u001b[0m\u001b[37m\u001b[0m \u001b[1m41s\u001b[0m 388ms/step - accuracy: 0.9456 - loss: 0.1611 - val_accuracy: 0.6186 - val_loss: 1.5676 - learning_rate: 1.0000e-04\n",
      "Epoch 11/50\n",
      "\u001b[1m99/99\u001b[0m \u001b[32m━━━━━━━━━━━━━━━━━━━━\u001b[0m\u001b[37m\u001b[0m \u001b[1m41s\u001b[0m 385ms/step - accuracy: 0.9494 - loss: 0.1426 - val_accuracy: 0.6729 - val_loss: 1.5897 - learning_rate: 9.0484e-05\n",
      "Epoch 12/50\n",
      "\u001b[1m99/99\u001b[0m \u001b[32m━━━━━━━━━━━━━━━━━━━━\u001b[0m\u001b[37m\u001b[0m \u001b[1m41s\u001b[0m 389ms/step - accuracy: 0.9605 - loss: 0.1089 - val_accuracy: 0.8204 - val_loss: 0.8009 - learning_rate: 8.1873e-05\n",
      "Epoch 13/50\n",
      "\u001b[1m99/99\u001b[0m \u001b[32m━━━━━━━━━━━━━━━━━━━━\u001b[0m\u001b[37m\u001b[0m \u001b[1m41s\u001b[0m 386ms/step - accuracy: 0.9684 - loss: 0.0973 - val_accuracy: 0.8725 - val_loss: 0.4830 - learning_rate: 7.4082e-05\n",
      "Epoch 14/50\n",
      "\u001b[1m99/99\u001b[0m \u001b[32m━━━━━━━━━━━━━━━━━━━━\u001b[0m\u001b[37m\u001b[0m \u001b[1m82s\u001b[0m 389ms/step - accuracy: 0.9713 - loss: 0.0860 - val_accuracy: 0.8647 - val_loss: 0.6913 - learning_rate: 6.7032e-05\n",
      "Epoch 15/50\n",
      "\u001b[1m99/99\u001b[0m \u001b[32m━━━━━━━━━━━━━━━━━━━━\u001b[0m\u001b[37m\u001b[0m \u001b[1m43s\u001b[0m 404ms/step - accuracy: 0.9731 - loss: 0.0707 - val_accuracy: 0.8880 - val_loss: 0.4122 - learning_rate: 6.0653e-05\n",
      "Epoch 16/50\n",
      "\u001b[1m99/99\u001b[0m \u001b[32m━━━━━━━━━━━━━━━━━━━━\u001b[0m\u001b[37m\u001b[0m \u001b[1m41s\u001b[0m 387ms/step - accuracy: 0.9819 - loss: 0.0574 - val_accuracy: 0.8670 - val_loss: 0.5549 - learning_rate: 5.4881e-05\n",
      "Epoch 17/50\n",
      "\u001b[1m99/99\u001b[0m \u001b[32m━━━━━━━━━━━━━━━━━━━━\u001b[0m\u001b[37m\u001b[0m \u001b[1m40s\u001b[0m 380ms/step - accuracy: 0.9846 - loss: 0.0503 - val_accuracy: 0.8825 - val_loss: 0.5710 - learning_rate: 4.9659e-05\n",
      "Epoch 18/50\n",
      "\u001b[1m99/99\u001b[0m \u001b[32m━━━━━━━━━━━━━━━━━━━━\u001b[0m\u001b[37m\u001b[0m \u001b[1m41s\u001b[0m 390ms/step - accuracy: 0.9820 - loss: 0.0551 - val_accuracy: 0.8914 - val_loss: 0.4438 - learning_rate: 4.4933e-05\n",
      "Epoch 19/50\n",
      "\u001b[1m99/99\u001b[0m \u001b[32m━━━━━━━━━━━━━━━━━━━━\u001b[0m\u001b[37m\u001b[0m \u001b[1m41s\u001b[0m 387ms/step - accuracy: 0.9862 - loss: 0.0423 - val_accuracy: 0.9180 - val_loss: 0.3828 - learning_rate: 4.0657e-05\n",
      "Epoch 20/50\n",
      "\u001b[1m99/99\u001b[0m \u001b[32m━━━━━━━━━━━━━━━━━━━━\u001b[0m\u001b[37m\u001b[0m \u001b[1m41s\u001b[0m 387ms/step - accuracy: 0.9861 - loss: 0.0400 - val_accuracy: 0.9180 - val_loss: 0.3819 - learning_rate: 3.6788e-05\n",
      "Epoch 21/50\n",
      "\u001b[1m99/99\u001b[0m \u001b[32m━━━━━━━━━━━━━━━━━━━━\u001b[0m\u001b[37m\u001b[0m \u001b[1m40s\u001b[0m 377ms/step - accuracy: 0.9864 - loss: 0.0359 - val_accuracy: 0.9191 - val_loss: 0.3897 - learning_rate: 3.3287e-05\n",
      "Epoch 22/50\n",
      "\u001b[1m99/99\u001b[0m \u001b[32m━━━━━━━━━━━━━━━━━━━━\u001b[0m\u001b[37m\u001b[0m \u001b[1m41s\u001b[0m 386ms/step - accuracy: 0.9898 - loss: 0.0299 - val_accuracy: 0.9268 - val_loss: 0.3544 - learning_rate: 3.0119e-05\n",
      "Epoch 23/50\n",
      "\u001b[1m99/99\u001b[0m \u001b[32m━━━━━━━━━━━━━━━━━━━━\u001b[0m\u001b[37m\u001b[0m \u001b[1m41s\u001b[0m 390ms/step - accuracy: 0.9937 - loss: 0.0220 - val_accuracy: 0.9290 - val_loss: 0.3431 - learning_rate: 2.7253e-05\n",
      "Epoch 24/50\n",
      "\u001b[1m99/99\u001b[0m \u001b[32m━━━━━━━━━━━━━━━━━━━━\u001b[0m\u001b[37m\u001b[0m \u001b[1m41s\u001b[0m 385ms/step - accuracy: 0.9957 - loss: 0.0162 - val_accuracy: 0.9235 - val_loss: 0.3689 - learning_rate: 2.4660e-05\n",
      "Epoch 25/50\n",
      "\u001b[1m99/99\u001b[0m \u001b[32m━━━━━━━━━━━━━━━━━━━━\u001b[0m\u001b[37m\u001b[0m \u001b[1m41s\u001b[0m 385ms/step - accuracy: 0.9979 - loss: 0.0111 - val_accuracy: 0.9180 - val_loss: 0.4399 - learning_rate: 2.2313e-05\n",
      "Epoch 26/50\n",
      "\u001b[1m99/99\u001b[0m \u001b[32m━━━━━━━━━━━━━━━━━━━━\u001b[0m\u001b[37m\u001b[0m \u001b[1m41s\u001b[0m 386ms/step - accuracy: 0.9924 - loss: 0.0174 - val_accuracy: 0.9102 - val_loss: 0.4569 - learning_rate: 2.0190e-05\n",
      "Epoch 27/50\n",
      "\u001b[1m99/99\u001b[0m \u001b[32m━━━━━━━━━━━━━━━━━━━━\u001b[0m\u001b[37m\u001b[0m \u001b[1m41s\u001b[0m 388ms/step - accuracy: 0.9955 - loss: 0.0132 - val_accuracy: 0.9124 - val_loss: 0.4477 - learning_rate: 1.8268e-05\n",
      "Epoch 28/50\n",
      "\u001b[1m99/99\u001b[0m \u001b[32m━━━━━━━━━━━━━━━━━━━━\u001b[0m\u001b[37m\u001b[0m \u001b[1m42s\u001b[0m 394ms/step - accuracy: 0.9952 - loss: 0.0138 - val_accuracy: 0.9146 - val_loss: 0.4424 - learning_rate: 1.6530e-05\n",
      "Epoch 29/50\n",
      "\u001b[1m99/99\u001b[0m \u001b[32m━━━━━━━━━━━━━━━━━━━━\u001b[0m\u001b[37m\u001b[0m \u001b[1m41s\u001b[0m 387ms/step - accuracy: 0.9926 - loss: 0.0213 - val_accuracy: 0.9202 - val_loss: 0.4034 - learning_rate: 1.4957e-05\n",
      "Epoch 30/50\n",
      "\u001b[1m99/99\u001b[0m \u001b[32m━━━━━━━━━━━━━━━━━━━━\u001b[0m\u001b[37m\u001b[0m \u001b[1m41s\u001b[0m 389ms/step - accuracy: 0.9953 - loss: 0.0122 - val_accuracy: 0.9235 - val_loss: 0.3858 - learning_rate: 1.3534e-05\n",
      "Epoch 31/50\n",
      "\u001b[1m99/99\u001b[0m \u001b[32m━━━━━━━━━━━━━━━━━━━━\u001b[0m\u001b[37m\u001b[0m \u001b[1m41s\u001b[0m 389ms/step - accuracy: 0.9958 - loss: 0.0106 - val_accuracy: 0.9191 - val_loss: 0.3956 - learning_rate: 1.2246e-05\n",
      "Epoch 32/50\n",
      "\u001b[1m99/99\u001b[0m \u001b[32m━━━━━━━━━━━━━━━━━━━━\u001b[0m\u001b[37m\u001b[0m \u001b[1m40s\u001b[0m 378ms/step - accuracy: 0.9934 - loss: 0.0150 - val_accuracy: 0.9135 - val_loss: 0.4639 - learning_rate: 1.1080e-05\n",
      "Epoch 33/50\n",
      "\u001b[1m99/99\u001b[0m \u001b[32m━━━━━━━━━━━━━━━━━━━━\u001b[0m\u001b[37m\u001b[0m \u001b[1m42s\u001b[0m 398ms/step - accuracy: 0.9967 - loss: 0.0086 - val_accuracy: 0.9146 - val_loss: 0.4495 - learning_rate: 1.0026e-05\n"
     ]
    }
   ],
   "source": [
    "model.compile(optimizer=Adam(learning_rate=0.0001),\n",
    "              loss='categorical_crossentropy',\n",
    "              metrics=['accuracy'])\n",
    "\n",
    "def scheduler(epoch, lr):\n",
    "    if epoch < 10:\n",
    "        return float(lr)\n",
    "    else:\n",
    "        return float(lr * tf.math.exp(-0.1))\n",
    "\n",
    "lr_scheduler = LearningRateScheduler(scheduler)\n",
    "early_stopping = EarlyStopping(monitor='val_loss', patience=10, restore_best_weights=True)\n",
    "\n",
    "history = model.fit(\n",
    "    train_generator,\n",
    "    epochs=50,\n",
    "    validation_data=val_generator,\n",
    "    callbacks=[lr_scheduler, early_stopping]\n",
    ")\n"
   ]
  },
  {
   "cell_type": "code",
   "execution_count": 5,
   "id": "50935295",
   "metadata": {
    "execution": {
     "iopub.execute_input": "2024-06-03T14:30:54.978473Z",
     "iopub.status.busy": "2024-06-03T14:30:54.977563Z",
     "iopub.status.idle": "2024-06-03T14:31:02.875642Z",
     "shell.execute_reply": "2024-06-03T14:31:02.874796Z"
    },
    "papermill": {
     "duration": 8.24762,
     "end_time": "2024-06-03T14:31:02.877596",
     "exception": false,
     "start_time": "2024-06-03T14:30:54.629976",
     "status": "completed"
    },
    "tags": []
   },
   "outputs": [
    {
     "name": "stdout",
     "output_type": "stream",
     "text": [
      "\u001b[1m15/15\u001b[0m \u001b[32m━━━━━━━━━━━━━━━━━━━━\u001b[0m\u001b[37m\u001b[0m \u001b[1m7s\u001b[0m 509ms/step - accuracy: 0.9110 - loss: 0.4518\n",
      "Test accuracy: 0.94\n"
     ]
    }
   ],
   "source": [
    "test_loss, test_acc = model.evaluate(test_generator)\n",
    "print(f\"Test accuracy: {test_acc:.2f}\")\n"
   ]
  }
 ],
 "metadata": {
  "kaggle": {
   "accelerator": "gpu",
   "dataSources": [
    {
     "datasetId": 3671292,
     "sourceId": 6372112,
     "sourceType": "datasetVersion"
    }
   ],
   "dockerImageVersionId": 30715,
   "isGpuEnabled": true,
   "isInternetEnabled": true,
   "language": "python",
   "sourceType": "notebook"
  },
  "kernelspec": {
   "display_name": "Python 3",
   "language": "python",
   "name": "python3"
  },
  "language_info": {
   "codemirror_mode": {
    "name": "ipython",
    "version": 3
   },
   "file_extension": ".py",
   "mimetype": "text/x-python",
   "name": "python",
   "nbconvert_exporter": "python",
   "pygments_lexer": "ipython3",
   "version": "3.10.13"
  },
  "papermill": {
   "default_parameters": {},
   "duration": 1569.018471,
   "end_time": "2024-06-03T14:31:07.094515",
   "environment_variables": {},
   "exception": null,
   "input_path": "__notebook__.ipynb",
   "output_path": "__notebook__.ipynb",
   "parameters": {},
   "start_time": "2024-06-03T14:04:58.076044",
   "version": "2.5.0"
  }
 },
 "nbformat": 4,
 "nbformat_minor": 5
}
